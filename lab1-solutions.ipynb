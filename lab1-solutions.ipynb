{
 "cells": [
  {
   "cell_type": "markdown",
   "metadata": {
    "deletable": false,
    "editable": false,
    "nbgrader": {
     "checksum": "fc5a35515978af15368a4c732b53e034",
     "grade": false,
     "grade_id": "cell-df0d1d9904a6a647",
     "locked": true,
     "schema_version": 1,
     "solution": false
    }
   },
   "source": [
    "### Lab 1 - Solutions"
   ]
  },
  {
   "cell_type": "code",
   "execution_count": null,
   "metadata": {
    "deletable": false,
    "editable": false,
    "nbgrader": {
     "checksum": "54081bbd49d9dea681c7f75c53624f00",
     "grade": false,
     "grade_id": "cell-c94af12540254671",
     "locked": true,
     "schema_version": 1,
     "solution": false
    }
   },
   "outputs": [],
   "source": [
    "NAME = \"\"\n",
    "AURAK_ID = \"\""
   ]
  },
  {
   "cell_type": "markdown",
   "metadata": {
    "deletable": false,
    "editable": false,
    "nbgrader": {
     "checksum": "13f8a5119733213528a2d4fa40ba1c39",
     "grade": false,
     "grade_id": "cell-067528fdb137cb60",
     "locked": true,
     "schema_version": 1,
     "solution": false
    }
   },
   "source": [
    "**Problem 1.1** Complete the code in the next cell."
   ]
  },
  {
   "cell_type": "code",
   "execution_count": null,
   "metadata": {
    "deletable": false,
    "nbgrader": {
     "checksum": "f601f6ae123eccfcbc1a5800f71347ba",
     "grade": true,
     "grade_id": "cell-1e2b6aded2ed72f7",
     "locked": false,
     "points": 5,
     "schema_version": 1,
     "solution": true
    }
   },
   "outputs": [],
   "source": [
    "def implies(a, b):\n",
    "    if a:\n",
    "         return b\n",
    "    else:\n",
    "         return True\n",
    "\n",
    "q = True\n",
    "for p in (True,False):\n",
    "    for r in (True,False):\n",
    "        for s in (True,False):\n",
    "            a = implies(q,((not p or r) and not s))\n",
    "            #\n",
    "            # YOUR CODE HERE\n",
    "            #\n",
    "            print( \"%10s %10s %10s %10s %10s \" %(q, p, r, s, a and b ))"
   ]
  },
  {
   "cell_type": "markdown",
   "metadata": {
    "deletable": false,
    "editable": false,
    "nbgrader": {
     "checksum": "ce6b48cc8147f1a709524c45b164d75b",
     "grade": false,
     "grade_id": "cell-adfd8258d0ab526f",
     "locked": true,
     "schema_version": 1,
     "solution": false
    }
   },
   "source": [
    "**Problem 1.2 (a)**  Write your answer in the next Markdown cell. "
   ]
  },
  {
   "cell_type": "markdown",
   "metadata": {
    "deletable": false,
    "nbgrader": {
     "checksum": "1765b6b75d9543252e1b6f593aa51a8f",
     "grade": true,
     "grade_id": "cell-344accb8341fee8e",
     "locked": false,
     "points": 2,
     "schema_version": 1,
     "solution": true
    }
   },
   "source": [
    "YOUR ANSWER HERE"
   ]
  },
  {
   "cell_type": "markdown",
   "metadata": {
    "deletable": false,
    "editable": false,
    "nbgrader": {
     "checksum": "7374b460a1c83c958f7853823b219a3f",
     "grade": false,
     "grade_id": "cell-4f6e83c533129898",
     "locked": true,
     "schema_version": 1,
     "solution": false
    }
   },
   "source": [
    "**Problem 1.2 (b)** Write your code in the next cell."
   ]
  },
  {
   "cell_type": "code",
   "execution_count": null,
   "metadata": {
    "deletable": false,
    "nbgrader": {
     "checksum": "50629a76ee96a96d1b1f28194bc29fb0",
     "grade": true,
     "grade_id": "cell-fbf1cdb44145c923",
     "locked": false,
     "points": 3,
     "schema_version": 1,
     "solution": true
    }
   },
   "outputs": [],
   "source": [
    "def validity(a, b):\n",
    "    \n",
    "    #\n",
    "    # YOUR CODE HERE\n",
    "    #\n",
    "    \n",
    "for p in (True,False):\n",
    "    for q in (True,False):\n",
    "        validity(p,q)"
   ]
  },
  {
   "cell_type": "markdown",
   "metadata": {
    "deletable": false,
    "editable": false,
    "nbgrader": {
     "checksum": "b78d672d7c79d559e3678b3b05167517",
     "grade": false,
     "grade_id": "cell-ed77b37d421d5814",
     "locked": true,
     "schema_version": 1,
     "solution": false
    }
   },
   "source": [
    "**Problem 1.3 (a)** Write your answer in the next Markdown cell."
   ]
  },
  {
   "cell_type": "markdown",
   "metadata": {
    "deletable": false,
    "nbgrader": {
     "checksum": "b242f9567c2cc5132cc1fa99c5eb55ab",
     "grade": true,
     "grade_id": "cell-208bcaa48a22eb8d",
     "locked": false,
     "points": 3,
     "schema_version": 1,
     "solution": true
    }
   },
   "source": [
    "YOUR ANSWER HERE"
   ]
  },
  {
   "cell_type": "markdown",
   "metadata": {
    "deletable": false,
    "editable": false,
    "nbgrader": {
     "checksum": "e0f781fe5c015bde0ccaf3616db75d35",
     "grade": false,
     "grade_id": "cell-535258407a368b90",
     "locked": true,
     "schema_version": 1,
     "solution": false
    }
   },
   "source": [
    "**Problem 1.3 (b)** Write your answer in the next Markdown cell."
   ]
  },
  {
   "cell_type": "markdown",
   "metadata": {
    "deletable": false,
    "nbgrader": {
     "checksum": "13142a28cef9cae52d1e05438a9f5473",
     "grade": true,
     "grade_id": "cell-09ffc497f1262430",
     "locked": false,
     "points": 3,
     "schema_version": 1,
     "solution": true
    }
   },
   "source": [
    "YOUR ANSWER HERE"
   ]
  },
  {
   "cell_type": "markdown",
   "metadata": {
    "deletable": false,
    "editable": false,
    "nbgrader": {
     "checksum": "8c95ae04d32857776a6d1ae23326107c",
     "grade": false,
     "grade_id": "cell-4f1e03bc6a2d5d38",
     "locked": true,
     "schema_version": 1,
     "solution": false
    }
   },
   "source": [
    "**Problem 1.3 (c)** Write your code in the next cell."
   ]
  },
  {
   "cell_type": "code",
   "execution_count": null,
   "metadata": {
    "deletable": false,
    "nbgrader": {
     "checksum": "43777753e568a99a64ca1581a0128671",
     "grade": true,
     "grade_id": "cell-3952a99fc1aa534c",
     "locked": false,
     "points": 3,
     "schema_version": 1,
     "solution": true
    }
   },
   "outputs": [],
   "source": [
    "#\n",
    "# YOUR CODE HERE\n",
    "#"
   ]
  },
  {
   "cell_type": "markdown",
   "metadata": {
    "deletable": false,
    "editable": false,
    "nbgrader": {
     "checksum": "3faa54940f54b992feb775ea970314c3",
     "grade": false,
     "grade_id": "cell-3c6894a210a79568",
     "locked": true,
     "schema_version": 1,
     "solution": false
    }
   },
   "source": [
    "**Problem 1.3 (d)** Write your answer in the next Markdown cell."
   ]
  },
  {
   "cell_type": "markdown",
   "metadata": {
    "deletable": false,
    "nbgrader": {
     "checksum": "6cf57cf6c3e3f12b7da4cc2bf6cf0ecb",
     "grade": true,
     "grade_id": "cell-55a59eda6310c919",
     "locked": false,
     "points": 3,
     "schema_version": 1,
     "solution": true
    }
   },
   "source": [
    "YOUR ANSWER HERE"
   ]
  },
  {
   "cell_type": "markdown",
   "metadata": {},
   "source": [
    "**Problem 1.3 (e)** Write your text answer in the next Markdown cell and python code in the code cell after the Markdown cell."
   ]
  },
  {
   "cell_type": "markdown",
   "metadata": {
    "deletable": false,
    "nbgrader": {
     "checksum": "c5d5441ed2965ae8f89518fd9232f7bd",
     "grade": true,
     "grade_id": "cell-e86ffd2726a0f4e0",
     "locked": false,
     "points": 1,
     "schema_version": 1,
     "solution": true
    }
   },
   "source": [
    "YOUR ANSWER HERE"
   ]
  },
  {
   "cell_type": "code",
   "execution_count": null,
   "metadata": {
    "deletable": false,
    "nbgrader": {
     "checksum": "88c44c1b0472d03e4d46074de08e3c77",
     "grade": true,
     "grade_id": "cell-f61b5e17395aaf69",
     "locked": false,
     "points": 2,
     "schema_version": 1,
     "solution": true
    }
   },
   "outputs": [],
   "source": [
    "\n",
    "#\n",
    "# YOUR CODE HERE\n",
    "#\n",
    "\n",
    "\n"
   ]
  }
 ],
 "metadata": {
  "kernelspec": {
   "display_name": "Python 3",
   "language": "python",
   "name": "python3"
  },
  "language_info": {
   "codemirror_mode": {
    "name": "ipython",
    "version": 3
   },
   "file_extension": ".py",
   "mimetype": "text/x-python",
   "name": "python",
   "nbconvert_exporter": "python",
   "pygments_lexer": "ipython3",
   "version": "3.5.5"
  }
 },
 "nbformat": 4,
 "nbformat_minor": 2
}
